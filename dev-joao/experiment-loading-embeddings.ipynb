{
 "cells": [
  {
   "cell_type": "code",
   "execution_count": 1,
   "outputs": [
    {
     "name": "stdout",
     "text": [
      "Add histwords to the python path...\n"
     ],
     "output_type": "stream"
    }
   ],
   "source": [
    "import os\n",
    "import sys\n",
    "\n",
    "project_root = os.path.abspath(os.pardir)\n",
    "histwords_root = os.path.join(project_root, \"histwords\")\n",
    "\n",
    "embeddings_folder = os.path.join(project_root, \"embeddings\")\n",
    "coha_lemma_sgns_folder = os.path.join(embeddings_folder, \"coha-lemma_sgns-2/sgns\")\n",
    "\n",
    "if histwords_root not in sys.path:\n",
    "    sys.path.append(histwords_root)\n",
    "    sys.path.append(project_root)\n",
    "    sys.path.append(embeddings_folder)\n",
    "    print(\"Add histwords to the python path...\")\n",
    "    "
   ],
   "metadata": {
    "collapsed": false,
    "pycharm": {
     "name": "#%%\n",
     "is_executing": false
    }
   }
  },
  {
   "cell_type": "code",
   "execution_count": 7,
   "outputs": [
    {
     "ename": "OSError",
     "evalue": "[Errno 2] No such file or directory: '/home/joaopcbertoldo/repos/jokar/embeddings/coha-lemma_sgns-2/sgns'",
     "traceback": [
      "\u001b[0;31m\u001b[0m",
      "\u001b[0;31mOSError\u001b[0mTraceback (most recent call last)",
      "\u001b[0;32m<ipython-input-7-72713475a2e8>\u001b[0m in \u001b[0;36m<module>\u001b[0;34m()\u001b[0m\n\u001b[1;32m      4\u001b[0m \u001b[0;32mfrom\u001b[0m \u001b[0mcollections\u001b[0m \u001b[0;32mimport\u001b[0m \u001b[0mdefaultdict\u001b[0m\u001b[0;34m\u001b[0m\u001b[0m\n\u001b[1;32m      5\u001b[0m \u001b[0mpaths\u001b[0m \u001b[0;34m=\u001b[0m \u001b[0mdefaultdict\u001b[0m\u001b[0;34m(\u001b[0m\u001b[0mdict\u001b[0m\u001b[0;34m)\u001b[0m\u001b[0;34m\u001b[0m\u001b[0m\n\u001b[0;32m----> 6\u001b[0;31m \u001b[0min_dir\u001b[0m \u001b[0;34m=\u001b[0m \u001b[0mos\u001b[0m\u001b[0;34m.\u001b[0m\u001b[0mlistdir\u001b[0m\u001b[0;34m(\u001b[0m\u001b[0mcoha_lemma_sgns_folder\u001b[0m\u001b[0;34m)\u001b[0m\u001b[0;34m\u001b[0m\u001b[0m\n\u001b[0m\u001b[1;32m      7\u001b[0m \u001b[0;32mfor\u001b[0m \u001b[0mf\u001b[0m \u001b[0;32min\u001b[0m \u001b[0min_dir\u001b[0m\u001b[0;34m:\u001b[0m\u001b[0;34m\u001b[0m\u001b[0m\n\u001b[1;32m      8\u001b[0m     \u001b[0mfilename\u001b[0m\u001b[0;34m,\u001b[0m \u001b[0mextension\u001b[0m \u001b[0;34m=\u001b[0m \u001b[0mos\u001b[0m\u001b[0;34m.\u001b[0m\u001b[0mpath\u001b[0m\u001b[0;34m.\u001b[0m\u001b[0msplitext\u001b[0m\u001b[0;34m(\u001b[0m\u001b[0mf\u001b[0m\u001b[0;34m)\u001b[0m\u001b[0;34m\u001b[0m\u001b[0m\n",
      "\u001b[0;31mOSError\u001b[0m: [Errno 2] No such file or directory: '/home/joaopcbertoldo/repos/jokar/embeddings/coha-lemma_sgns-2/sgns'"
     ],
     "output_type": "error"
    }
   ],
   "source": [
    "LOAD_PATH_ARG = \"use_this_value_at_this_key_for_loading_embeddings\"\n",
    "\n",
    "from collections import defaultdict\n",
    "paths = defaultdict(dict)\n",
    "in_dir = os.listdir(coha_lemma_sgns_folder)\n",
    "for f in in_dir:\n",
    "    filename, extension = os.path.splitext(f)\n",
    "    decade, what = filename.split(\"-\")\n",
    "    decade = int(decade)\n",
    "    filepath =  os.path.join(coha_lemma_sgns_folder, f)\n",
    "    if decade not in paths:\n",
    "        paths[decade][LOAD_PATH_ARG] = os.path.join(coha_lemma_sgns_folder, str(decade))\n",
    "    paths[decade][extension] = filepath\n",
    "    paths[decade][what] = filepath\n",
    "paths = dict(paths)\n",
    "\n",
    "decades = sorted(paths.keys())"
   ],
   "metadata": {
    "collapsed": false,
    "pycharm": {
     "name": "#%%\n",
     "is_executing": false
    }
   }
  },
  {
   "cell_type": "code",
   "execution_count": null,
   "outputs": [],
   "source": [
    "print(\"In the embeddings' folder:\")\n",
    "from pprint import pprint\n",
    "pprint(decades)"
   ],
   "metadata": {
    "collapsed": false,
    "pycharm": {
     "name": "#%%\n",
     "is_executing": false
    }
   }
  },
  {
   "cell_type": "code",
   "execution_count": null,
   "outputs": [],
   "source": [
    "from representations.sequentialembedding import SequentialEmbedding \n",
    "\n",
    "fiction_embeddings = SequentialEmbedding.load(coha_lemma_sgns_folder, range(1950, 2000, 10))\n",
    "time_sims = fiction_embeddings.get_time_sims(\"lesbian\", \"gay\")\n",
    "\n",
    "print \"Similarity between gay and lesbian drastically increases from 1950s to the 1990s:\"\n",
    "for year, sim in time_sims.iteritems():\n",
    "    print \"{year:d}, cosine similarity={sim:0.2f}\".format(year=year,sim=sim)"
   ],
   "metadata": {
    "collapsed": false,
    "pycharm": {
     "name": "#%%\n",
     "is_executing": false
    }
   }
  },
  {
   "cell_type": "code",
   "execution_count": null,
   "outputs": [],
   "source": [
    "%load_ext autoreload\n",
    "%autoreload 2\n",
    "from representations.representation_factory import create_representation\n",
    "from representations.representation_factory import Representations\n",
    "\n",
    "emb_1990 = create_representation(\"sgns\", paths[1990][LOAD_PATH_ARG])\n",
    "emb_1970 = create_representation(\"sgns\", paths[1970][LOAD_PATH_ARG])"
   ],
   "metadata": {
    "collapsed": false,
    "pycharm": {
     "name": "#%%\n",
     "is_executing": false
    }
   }
  },
  {
   "cell_type": "code",
   "execution_count": null,
   "outputs": [],
   "source": [
    "import numpy as np\n",
    "np.array(emb_1990.m).shape"
   ],
   "metadata": {
    "collapsed": false,
    "pycharm": {
     "name": "#%%\n",
     "is_executing": false
    }
   }
  },
  {
   "cell_type": "code",
   "execution_count": null,
   "outputs": [],
   "source": [
    "queen_wannabe = emb_1970['king'] - emb_1970['man'] + emb_1970['woman']"
   ],
   "metadata": {
    "collapsed": false,
    "pycharm": {
     "name": "#%%\n",
     "is_executing": false
    }
   }
  },
  {
   "cell_type": "code",
   "execution_count": null,
   "outputs": [],
   "source": [
    "emb_1970.closest(queen_wannabe)"
   ],
   "metadata": {
    "collapsed": false,
    "pycharm": {
     "name": "#%%\n",
     "is_executing": false
    }
   }
  },
  {
   "cell_type": "code",
   "execution_count": null,
   "outputs": [],
   "source": [
    "emb_1970.closest('king')"
   ],
   "metadata": {
    "collapsed": false,
    "pycharm": {
     "name": "#%%\n",
     "is_executing": false
    }
   }
  },
  {
   "cell_type": "code",
   "execution_count": 2,
   "outputs": [],
   "source": [
    "import ioutils"
   ],
   "metadata": {
    "collapsed": false,
    "pycharm": {
     "name": "#%%\n",
     "is_executing": false
    }
   }
  },
  {
   "cell_type": "code",
   "execution_count": 7,
   "outputs": [],
   "source": [
    "coha_lemma_folder = os.path.join(embeddings_folder, \"coha-lemma\")\n",
    "freqs_filepath = os.path.join(coha_lemma_folder, 'freqs.pkl')\n",
    "avg_freqs_filepath = os.path.join(coha_lemma_folder, 'avg_freqs.pkl')\n",
    "counts_folder = os.path.join(coha_lemma_folder, \"counts\")"
   ],
   "metadata": {
    "collapsed": false,
    "pycharm": {
     "name": "#%%\n",
     "is_executing": false
    }
   }
  },
  {
   "cell_type": "code",
   "execution_count": null,
   "outputs": [],
   "source": [
    "freqs = ioutils.load_pickle(freqs_filepath)"
   ],
   "metadata": {
    "collapsed": false,
    "pycharm": {
     "name": "#%%\n"
    }
   }
  },
  {
   "cell_type": "code",
   "execution_count": 8,
   "outputs": [],
   "source": [
    "avg_freqs = ioutils.load_pickle(avg_freqs_filepath)"
   ],
   "metadata": {
    "collapsed": false,
    "pycharm": {
     "name": "#%%\n",
     "is_executing": false
    }
   }
  },
  {
   "cell_type": "code",
   "execution_count": 9,
   "outputs": [
    {
     "data": {
      "text/plain": "91006"
     },
     "metadata": {},
     "output_type": "execute_result",
     "execution_count": 9
    }
   ],
   "source": [
    "ioutils.words_above_count()"
   ],
   "metadata": {
    "collapsed": false,
    "pycharm": {
     "name": "#%%\n",
     "is_executing": false
    }
   }
  }
 ],
 "metadata": {
  "kernelspec": {
   "display_name": "Python 2",
   "language": "python",
   "name": "python2"
  },
  "language_info": {
   "codemirror_mode": {
    "name": "ipython",
    "version": 2
   },
   "file_extension": ".py",
   "mimetype": "text/x-python",
   "name": "python",
   "nbconvert_exporter": "python",
   "pygments_lexer": "ipython2",
   "version": "2.7.17"
  },
  "pycharm": {
   "stem_cell": {
    "cell_type": "raw",
    "source": [],
    "metadata": {
     "collapsed": false
    }
   }
  }
 },
 "nbformat": 4,
 "nbformat_minor": 2
}