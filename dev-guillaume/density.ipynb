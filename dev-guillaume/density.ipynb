{
 "cells": [
  {
   "cell_type": "code",
   "execution_count": 1,
   "metadata": {},
   "outputs": [
    {
     "name": "stdout",
     "output_type": "stream",
     "text": [
      "Loading SequentialEmbedding from ../rsrc/coha-lemma/sgns years=range(1950, 2000, 10)\n",
      "Loading Embedding from ../rsrc/coha-lemma/sgns/1950 normalize=True\n",
      "Loading pickle file ../rsrc/coha-lemma/sgns/1950-vocab.pkl\n",
      "Loading Embedding from ../rsrc/coha-lemma/sgns/1960 normalize=True\n",
      "Loading pickle file ../rsrc/coha-lemma/sgns/1960-vocab.pkl\n",
      "Loading Embedding from ../rsrc/coha-lemma/sgns/1970 normalize=True\n",
      "Loading pickle file ../rsrc/coha-lemma/sgns/1970-vocab.pkl\n",
      "Loading Embedding from ../rsrc/coha-lemma/sgns/1980 normalize=True\n",
      "Loading pickle file ../rsrc/coha-lemma/sgns/1980-vocab.pkl\n",
      "Loading Embedding from ../rsrc/coha-lemma/sgns/1990 normalize=True\n",
      "Loading pickle file ../rsrc/coha-lemma/sgns/1990-vocab.pkl\n",
      "Similarity between gay and lesbian drastically increases from 1950s to the 1990s:\n",
      "1950, cosine similarity=0.00\n",
      "1960, cosine similarity=0.00\n",
      "1970, cosine similarity=0.00\n",
      "1980, cosine similarity=0.00\n",
      "1990, cosine similarity=0.56\n"
     ]
    }
   ],
   "source": [
    "import os\n",
    "os.chdir('../histwords_py3')\n",
    "from representations.sequentialembedding import SequentialEmbedding\n"
   ]
  },
  {
   "cell_type": "code",
   "execution_count": 11,
   "metadata": {},
   "outputs": [
    {
     "name": "stdout",
     "output_type": "stream",
     "text": [
      "Loading SequentialEmbedding from ../rsrc/coha-lemma/sgns years=range(1810, 2010, 10)\n",
      "Loading Embedding from ../rsrc/coha-lemma/sgns/1810 normalize=True\n",
      "Loading pickle file ../rsrc/coha-lemma/sgns/1810-vocab.pkl\n",
      "Loading Embedding from ../rsrc/coha-lemma/sgns/1820 normalize=True\n",
      "Loading pickle file ../rsrc/coha-lemma/sgns/1820-vocab.pkl\n",
      "Loading Embedding from ../rsrc/coha-lemma/sgns/1830 normalize=True\n",
      "Loading pickle file ../rsrc/coha-lemma/sgns/1830-vocab.pkl\n",
      "Loading Embedding from ../rsrc/coha-lemma/sgns/1840 normalize=True\n",
      "Loading pickle file ../rsrc/coha-lemma/sgns/1840-vocab.pkl\n",
      "Loading Embedding from ../rsrc/coha-lemma/sgns/1850 normalize=True\n",
      "Loading pickle file ../rsrc/coha-lemma/sgns/1850-vocab.pkl\n",
      "Loading Embedding from ../rsrc/coha-lemma/sgns/1860 normalize=True\n",
      "Loading pickle file ../rsrc/coha-lemma/sgns/1860-vocab.pkl\n",
      "Loading Embedding from ../rsrc/coha-lemma/sgns/1870 normalize=True\n",
      "Loading pickle file ../rsrc/coha-lemma/sgns/1870-vocab.pkl\n",
      "Loading Embedding from ../rsrc/coha-lemma/sgns/1880 normalize=True\n",
      "Loading pickle file ../rsrc/coha-lemma/sgns/1880-vocab.pkl\n",
      "Loading Embedding from ../rsrc/coha-lemma/sgns/1890 normalize=True\n",
      "Loading pickle file ../rsrc/coha-lemma/sgns/1890-vocab.pkl\n",
      "Loading Embedding from ../rsrc/coha-lemma/sgns/1900 normalize=True\n",
      "Loading pickle file ../rsrc/coha-lemma/sgns/1900-vocab.pkl\n",
      "Loading Embedding from ../rsrc/coha-lemma/sgns/1910 normalize=True\n",
      "Loading pickle file ../rsrc/coha-lemma/sgns/1910-vocab.pkl\n",
      "Loading Embedding from ../rsrc/coha-lemma/sgns/1920 normalize=True\n",
      "Loading pickle file ../rsrc/coha-lemma/sgns/1920-vocab.pkl\n",
      "Loading Embedding from ../rsrc/coha-lemma/sgns/1930 normalize=True\n",
      "Loading pickle file ../rsrc/coha-lemma/sgns/1930-vocab.pkl\n",
      "Loading Embedding from ../rsrc/coha-lemma/sgns/1940 normalize=True\n",
      "Loading pickle file ../rsrc/coha-lemma/sgns/1940-vocab.pkl\n",
      "Loading Embedding from ../rsrc/coha-lemma/sgns/1950 normalize=True\n",
      "Loading pickle file ../rsrc/coha-lemma/sgns/1950-vocab.pkl\n",
      "Loading Embedding from ../rsrc/coha-lemma/sgns/1960 normalize=True\n",
      "Loading pickle file ../rsrc/coha-lemma/sgns/1960-vocab.pkl\n",
      "Loading Embedding from ../rsrc/coha-lemma/sgns/1970 normalize=True\n",
      "Loading pickle file ../rsrc/coha-lemma/sgns/1970-vocab.pkl\n",
      "Loading Embedding from ../rsrc/coha-lemma/sgns/1980 normalize=True\n",
      "Loading pickle file ../rsrc/coha-lemma/sgns/1980-vocab.pkl\n",
      "Loading Embedding from ../rsrc/coha-lemma/sgns/1990 normalize=True\n",
      "Loading pickle file ../rsrc/coha-lemma/sgns/1990-vocab.pkl\n",
      "Loading Embedding from ../rsrc/coha-lemma/sgns/2000 normalize=True\n",
      "Loading pickle file ../rsrc/coha-lemma/sgns/2000-vocab.pkl\n",
      "Similarity between gay and lesbian drastically increases from 1950s to the 1990s:\n",
      "1810, cosine similarity=0.00\n",
      "1820, cosine similarity=0.00\n",
      "1830, cosine similarity=0.00\n",
      "1840, cosine similarity=0.00\n",
      "1850, cosine similarity=0.00\n",
      "1860, cosine similarity=0.00\n",
      "1870, cosine similarity=0.00\n",
      "1880, cosine similarity=0.00\n",
      "1890, cosine similarity=0.00\n",
      "1900, cosine similarity=0.00\n",
      "1910, cosine similarity=0.00\n",
      "1920, cosine similarity=0.00\n",
      "1930, cosine similarity=0.00\n",
      "1940, cosine similarity=0.00\n",
      "1950, cosine similarity=0.00\n",
      "1960, cosine similarity=0.00\n",
      "1970, cosine similarity=0.00\n",
      "1980, cosine similarity=0.00\n",
      "1990, cosine similarity=0.56\n",
      "2000, cosine similarity=0.53\n"
     ]
    }
   ],
   "source": [
    "\"\"\"\n",
    "Example showing how to load a series of historical embeddings and compute similarities over time.\n",
    "Warning that loading all the embeddings into main memory can take a lot of RAM\n",
    "\"\"\"\n",
    "\n",
    "if __name__ == \"__main__\":\n",
    "    fiction_embeddings = SequentialEmbedding.load(\"../rsrc/coha-lemma/sgns\", range(1810, 2010, 10))\n",
    "    time_sims = fiction_embeddings.get_time_sims(\"lesbian\", \"gay\")   \n",
    "    print (\"Similarity between gay and lesbian drastically increases from 1950s to the 1990s:\")\n",
    "    for year, sim in time_sims.items():\n",
    "        print (\"{year:d}, cosine similarity={sim:0.2f}\".format(year=year,sim=sim))\n",
    "        \n",
    "embeds = fiction_embeddings.get_embed(1950)\n",
    "word = \"frequency\"\n",
    "v_word = embeds[word]"
   ]
  },
  {
   "cell_type": "code",
   "execution_count": 59,
   "metadata": {},
   "outputs": [
    {
     "name": "stdout",
     "output_type": "stream",
     "text": [
      "0.776406466778001\n",
      "1.3021957925612242\n"
     ]
    }
   ],
   "source": [
    "import numpy as np\n",
    "\n",
    "embs = []\n",
    "word = \"frequency\"\n",
    "for y in range(1980, 2000, 10):\n",
    "    embeds = fiction_embeddings.get_embed(y)\n",
    "    embs.append(np.array(embeds[word]))\n",
    "    \n",
    "for i in range(len(embs)-1):\n",
    "    print(np.linalg.norm(embs[i] - embs[i+1]))\n",
    "    \n",
    "y = 1990\n",
    "print(np.linalg.norm(np.array(fiction_embeddings.get_embed(y)['animal']) - np.array(fiction_embeddings.get_embed(y)['frequency'])))"
   ]
  },
  {
   "cell_type": "code",
   "execution_count": 9,
   "metadata": {
    "scrolled": true
   },
   "outputs": [
    {
     "name": "stdout",
     "output_type": "stream",
     "text": [
      "the             :\t 38.96578150776602\n"
     ]
    }
   ],
   "source": [
    "type(embeds.m)\n",
    "import numpy as np\n",
    "import random\n",
    "import scipy as sp\n",
    "\n",
    "embeds = fiction_embeddings.get_embed(1960)\n",
    "\n",
    "def synonymity(e,w):\n",
    "    w2_emb = e.represent(w)\n",
    "    embs = e.m\n",
    "    distances = []\n",
    "    for w1_emb in embs[:10]:\n",
    "        #distances.append(sp.spatial.distance.cosine(w1_emb, w2_emb))\n",
    "        a = sp.spatial.distance.cosine(w1_emb, w2_emb)\n",
    "        if(not np.isnan(a)):\n",
    "            distances.append(a)\n",
    "    #print(distances[:10])\n",
    "    #print(distances.shape)\n",
    "    distances = np.array(distances)\n",
    "    sigma = 0.4\n",
    "    def f(x):\n",
    "        return np.exp(-(x**2)/(2*sigma**2))/(sigma * np.sqrt(2*np.pi))\n",
    "    vf = np.vectorize(f)\n",
    "    if(len(distances) == 0):\n",
    "        scores = []\n",
    "    else:\n",
    "        scores = vf(distances)\n",
    "    return np.sum(scores)/sigma**2.8\n",
    "\n",
    "for i in range(0):\n",
    "    wembed = [0]\n",
    "    while(np.linalg.norm(wembed)<=0.001):\n",
    "        word = embeds.iw[random.randint(1,50000)-1]\n",
    "        wembed = embeds.represent(word)\n",
    "    syn = synonymity(embeds,word)\n",
    "    print(word.ljust(15), ':\\t', syn)\n",
    "    if(syn<1):\n",
    "        print(word)\n",
    "    \n",
    "for word in ['the']:\n",
    "    print(word.ljust(15), ':\\t', synonymity(embeds,word))\n",
    "    \n"
   ]
  },
  {
   "cell_type": "code",
   "execution_count": 4,
   "metadata": {
    "scrolled": true
   },
   "outputs": [
    {
     "name": "stdout",
     "output_type": "stream",
     "text": [
      "Loading pickle file ../rsrc/coha-lemma/freqs.pkl\n"
     ]
    }
   ],
   "source": [
    "import ioutils\n",
    "\n",
    "fdic = ioutils.load_pickle('../rsrc/coha-lemma/freqs.pkl')"
   ]
  },
  {
   "cell_type": "code",
   "execution_count": 5,
   "metadata": {},
   "outputs": [
    {
     "data": {
      "text/plain": [
       "defaultdict(float,\n",
       "            {1920: 2.4292160892965587e-05,\n",
       "             1890: 9.720552482158755e-06,\n",
       "             1860: 3.7298671429316262e-06,\n",
       "             1990: 3.1252848234702e-05,\n",
       "             1960: 3.669318121449585e-05,\n",
       "             1930: 4.845953665596719e-05,\n",
       "             1900: 1.77821634933879e-05,\n",
       "             1870: 4.094495796110488e-06,\n",
       "             2000: 3.264325482529516e-05,\n",
       "             1970: 3.6755335946423e-05,\n",
       "             1940: 3.8485767092198764e-05,\n",
       "             1910: 3.425719650042103e-05,\n",
       "             1880: 8.47529088674737e-06,\n",
       "             1850: 7.119054466900011e-07,\n",
       "             1980: 2.986894881365709e-05,\n",
       "             1950: 3.404878979001041e-05})"
      ]
     },
     "execution_count": 5,
     "metadata": {},
     "output_type": "execute_result"
    }
   ],
   "source": [
    "fdic['hello']"
   ]
  },
  {
   "cell_type": "code",
   "execution_count": 6,
   "metadata": {},
   "outputs": [
    {
     "name": "stdout",
     "output_type": "stream",
     "text": [
      "Loading pickle file ../rsrc/coha-lemma/avg_freqs.pkl\n"
     ]
    },
    {
     "data": {
      "text/plain": [
       "0.0017832384613991857"
      ]
     },
     "execution_count": 6,
     "metadata": {},
     "output_type": "execute_result"
    }
   ],
   "source": [
    "fdic2 = ioutils.load_pickle('../rsrc/coha-lemma/avg_freqs.pkl')\n",
    "fdic2['up']"
   ]
  },
  {
   "cell_type": "code",
   "execution_count": 23,
   "metadata": {},
   "outputs": [
    {
     "name": "stdout",
     "output_type": "stream",
     "text": [
      "[('fawn', 4.4309742982609515e-06), ('\\x00', 0.009459904667337236), ('gai', 2.1216600165001498e-08), ('tripolitan', 3.027615360560227e-08), ('1,800', 6.444588373035074e-07), ('county-seat', 1.1316099341295157e-07), ('sowell', 1.8913345337712496e-07), ('sonja', 1.4053759007513715e-07), ('circuitry', 2.6636683234501327e-07), ('gavan', 7.030157660176611e-08)]\n",
      "[(',', 0.061081250478626746), ('the', 0.05330175156231816), ('.', 0.04210536495214445), ('be', 0.032162094661720694), ('of', 0.028142034204236128), ('and', 0.025577066034806036), ('to', 0.022353314533136215), ('a', 0.01825473044310825), ('\"', 0.018111800320612367), ('in', 0.015369934749330322)]\n"
     ]
    }
   ],
   "source": [
    "wlist = []\n",
    "for w in fdic2:\n",
    "    wlist.append((w,fdic2[w]))\n",
    "print(wlist[:10])\n",
    "wlist.sort(key = lambda x : x[1], reverse = True)\n",
    "print(wlist[:10])"
   ]
  },
  {
   "cell_type": "code",
   "execution_count": 19,
   "metadata": {},
   "outputs": [
    {
     "name": "stdout",
     "output_type": "stream",
     "text": [
      "fuzziness\n",
      "OOV:  fuzziness\n"
     ]
    },
    {
     "data": {
      "text/plain": [
       "0.0"
      ]
     },
     "execution_count": 19,
     "metadata": {},
     "output_type": "execute_result"
    }
   ],
   "source": [
    "w = wlist[1][0]\n",
    "print(w)\n",
    "synonymity(fiction_embeddings.get_embed(1930),w)"
   ]
  },
  {
   "cell_type": "code",
   "execution_count": 24,
   "metadata": {},
   "outputs": [
    {
     "name": "stdout",
     "output_type": "stream",
     "text": [
      "Loading pickle file ../rsrc/coha-lemma/volstats/vols.pkl\n"
     ]
    }
   ],
   "source": [
    "top10k = list(ioutils.load_pickle('../rsrc/coha-lemma/volstats/vols.pkl').keys())"
   ]
  },
  {
   "cell_type": "code",
   "execution_count": 25,
   "metadata": {},
   "outputs": [
    {
     "name": "stdout",
     "output_type": "stream",
     "text": [
      "Writing pickle file ../dev-guillaume/synonymity_10000.pkl\n"
     ]
    }
   ],
   "source": [
    "syndic = {}\n",
    "for w in top10k:\n",
    "    wdic = {}\n",
    "    for y in range(1810,2010,10):\n",
    "        wdic[y] = synonymity(fiction_embeddings.get_embed(y),w)\n",
    "    syndic[w] = wdic\n",
    "ioutils.write_pickle(syndic,'../dev-guillaume/synonymity_10000.pkl')\n",
    "    "
   ]
  },
  {
   "cell_type": "code",
   "execution_count": 45,
   "metadata": {},
   "outputs": [
    {
     "data": {
      "text/plain": [
       "7.469871432639327"
      ]
     },
     "execution_count": 45,
     "metadata": {},
     "output_type": "execute_result"
    }
   ],
   "source": [
    "syndic['money'][1990]"
   ]
  }
 ],
 "metadata": {
  "kernelspec": {
   "display_name": "Python 3",
   "language": "python",
   "name": "python3"
  },
  "language_info": {
   "codemirror_mode": {
    "name": "ipython",
    "version": 3
   },
   "file_extension": ".py",
   "mimetype": "text/x-python",
   "name": "python",
   "nbconvert_exporter": "python",
   "pygments_lexer": "ipython3",
   "version": "3.7.5"
  }
 },
 "nbformat": 4,
 "nbformat_minor": 2
}
