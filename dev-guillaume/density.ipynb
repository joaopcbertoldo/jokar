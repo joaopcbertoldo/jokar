{
 "cells": [
  {
   "cell_type": "code",
   "execution_count": 1,
   "metadata": {},
   "outputs": [
    {
     "name": "stdout",
     "output_type": "stream",
     "text": [
      "Loading SequentialEmbedding from ../coha-lemma_sgns/sgns years=range(1950, 2000, 10)\n",
      "Loading Embedding from ../coha-lemma_sgns/sgns/1950 normalize=True\n",
      "Loading pickle file ../coha-lemma_sgns/sgns/1950-vocab.pkl\n",
      "Loading Embedding from ../coha-lemma_sgns/sgns/1960 normalize=True\n",
      "Loading pickle file ../coha-lemma_sgns/sgns/1960-vocab.pkl\n",
      "Loading Embedding from ../coha-lemma_sgns/sgns/1970 normalize=True\n",
      "Loading pickle file ../coha-lemma_sgns/sgns/1970-vocab.pkl\n",
      "Loading Embedding from ../coha-lemma_sgns/sgns/1980 normalize=True\n",
      "Loading pickle file ../coha-lemma_sgns/sgns/1980-vocab.pkl\n",
      "Loading Embedding from ../coha-lemma_sgns/sgns/1990 normalize=True\n",
      "Loading pickle file ../coha-lemma_sgns/sgns/1990-vocab.pkl\n",
      "Similarity between gay and lesbian drastically increases from 1950s to the 1990s:\n",
      "1950, cosine similarity=0.00\n",
      "1960, cosine similarity=0.00\n",
      "1970, cosine similarity=0.00\n",
      "1980, cosine similarity=0.00\n",
      "1990, cosine similarity=0.56\n"
     ]
    }
   ],
   "source": [
    "import os\n",
    "os.chdir('../histwords_py3')\n",
    "from representations.sequentialembedding import SequentialEmbedding\n",
    "\n",
    "\"\"\"\n",
    "Example showing how to load a series of historical embeddings and compute similarities over time.\n",
    "Warning that loading all the embeddings into main memory can take a lot of RAM\n",
    "\"\"\"\n",
    "\n",
    "if __name__ == \"__main__\":\n",
    "    fiction_embeddings = SequentialEmbedding.load(\"../coha-lemma_sgns/sgns\", range(1950, 2000, 10))\n",
    "    time_sims = fiction_embeddings.get_time_sims(\"lesbian\", \"gay\")   \n",
    "    print (\"Similarity between gay and lesbian drastically increases from 1950s to the 1990s:\")\n",
    "    for year, sim in time_sims.items():\n",
    "        print (\"{year:d}, cosine similarity={sim:0.2f}\".format(year=year,sim=sim))\n",
    "        \n",
    "embeds = fiction_embeddings.get_embed(1950)\n",
    "word = \"frequency\"\n",
    "v_word = embeds[word]"
   ]
  },
  {
   "cell_type": "code",
   "execution_count": 59,
   "metadata": {},
   "outputs": [
    {
     "name": "stdout",
     "output_type": "stream",
     "text": [
      "0.776406466778001\n",
      "1.3021957925612242\n"
     ]
    }
   ],
   "source": [
    "import numpy as np\n",
    "\n",
    "embs = []\n",
    "word = \"frequency\"\n",
    "for y in range(1980, 2000, 10):\n",
    "    embeds = fiction_embeddings.get_embed(y)\n",
    "    embs.append(np.array(embeds[word]))\n",
    "    \n",
    "for i in range(len(embs)-1):\n",
    "    print(np.linalg.norm(embs[i] - embs[i+1]))\n",
    "    \n",
    "y = 1990\n",
    "print(np.linalg.norm(np.array(fiction_embeddings.get_embed(y)['animal']) - np.array(fiction_embeddings.get_embed(y)['frequency'])))"
   ]
  },
  {
   "cell_type": "code",
   "execution_count": 110,
   "metadata": {
    "scrolled": true
   },
   "outputs": [
    {
     "name": "stdout",
     "output_type": "stream",
     "text": [
      "the             :\t 38.96578150776602\n"
     ]
    }
   ],
   "source": [
    "type(embeds.m)\n",
    "import numpy as np\n",
    "import random\n",
    "import scipy as sp\n",
    "\n",
    "embeds = fiction_embeddings.get_embed(1960)\n",
    "\n",
    "def synonymity(e,w):\n",
    "    w2_emb = e.represent(w)\n",
    "    embs = e.m\n",
    "    distances = []\n",
    "    for w1_emb in embs[:10]:\n",
    "        #distances.append(sp.spatial.distance.cosine(w1_emb, w2_emb))\n",
    "        a = sp.spatial.distance.cosine(w1_emb, w2_emb)\n",
    "        if(not np.isnan(a)):\n",
    "            distances.append(a)\n",
    "    #print(distances[:10])\n",
    "    #print(distances.shape)\n",
    "    distances = np.array(distances)\n",
    "    sigma = 0.4\n",
    "    def f(x):\n",
    "        return np.exp(-(x**2)/(2*sigma**2))/(sigma * np.sqrt(2*np.pi))\n",
    "    vf = np.vectorize(f)\n",
    "    if(len(distances) == 0):\n",
    "        scores = []\n",
    "    else:\n",
    "        scores = vf(distances)\n",
    "    return np.sum(scores)/sigma**2.8\n",
    "\n",
    "for i in range(0):\n",
    "    wembed = [0]\n",
    "    while(np.linalg.norm(wembed)<=0.001):\n",
    "        word = embeds.iw[random.randint(1,50000)-1]\n",
    "        wembed = embeds.represent(word)\n",
    "    syn = synonymity(embeds,word)\n",
    "    print(word.ljust(15), ':\\t', syn)\n",
    "    if(syn<1):\n",
    "        print(word)\n",
    "    \n",
    "for word in ['the']:\n",
    "    print(word.ljust(15), ':\\t', synonymity(embeds,word))\n",
    "    \n"
   ]
  }
 ],
 "metadata": {
  "kernelspec": {
   "display_name": "Python 3",
   "language": "python",
   "name": "python3"
  },
  "language_info": {
   "codemirror_mode": {
    "name": "ipython",
    "version": 3
   },
   "file_extension": ".py",
   "mimetype": "text/x-python",
   "name": "python",
   "nbconvert_exporter": "python",
   "pygments_lexer": "ipython3",
   "version": "3.7.5"
  }
 },
 "nbformat": 4,
 "nbformat_minor": 2
}
