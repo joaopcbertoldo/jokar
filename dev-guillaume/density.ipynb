{
 "cells": [
  {
   "cell_type": "code",
   "execution_count": 5,
   "metadata": {},
   "outputs": [
    {
     "name": "stdout",
     "output_type": "stream",
     "text": [
      "Loading SequentialEmbedding from ../coha-lemma_sgns/sgns years=range(1950, 2000, 10)\n",
      "Loading Embedding from ../coha-lemma_sgns/sgns/1950 normalize=True\n",
      "Loading pickle file ../coha-lemma_sgns/sgns/1950-vocab.pkl\n",
      "Loading Embedding from ../coha-lemma_sgns/sgns/1960 normalize=True\n",
      "Loading pickle file ../coha-lemma_sgns/sgns/1960-vocab.pkl\n",
      "Loading Embedding from ../coha-lemma_sgns/sgns/1970 normalize=True\n",
      "Loading pickle file ../coha-lemma_sgns/sgns/1970-vocab.pkl\n",
      "Loading Embedding from ../coha-lemma_sgns/sgns/1980 normalize=True\n",
      "Loading pickle file ../coha-lemma_sgns/sgns/1980-vocab.pkl\n",
      "Loading Embedding from ../coha-lemma_sgns/sgns/1990 normalize=True\n",
      "Loading pickle file ../coha-lemma_sgns/sgns/1990-vocab.pkl\n",
      "Similarity between gay and lesbian drastically increases from 1950s to the 1990s:\n",
      "1950, cosine similarity=0.00\n",
      "1960, cosine similarity=0.00\n",
      "1970, cosine similarity=0.00\n",
      "1980, cosine similarity=0.00\n",
      "1990, cosine similarity=0.56\n"
     ]
    }
   ],
   "source": [
    "import os\n",
    "os.chdir('../histwords_py3')\n",
    "from representations.sequentialembedding import SequentialEmbedding\n",
    "\n",
    "\"\"\"\n",
    "Example showing how to load a series of historical embeddings and compute similarities over time.\n",
    "Warning that loading all the embeddings into main memory can take a lot of RAM\n",
    "\"\"\"\n",
    "\n",
    "if __name__ == \"__main__\":\n",
    "    fiction_embeddings = SequentialEmbedding.load(\"../coha-lemma_sgns/sgns\", range(1950, 2000, 10))\n",
    "    time_sims = fiction_embeddings.get_time_sims(\"lesbian\", \"gay\")   \n",
    "    print (\"Similarity between gay and lesbian drastically increases from 1950s to the 1990s:\")\n",
    "    for year, sim in time_sims.items():\n",
    "        print (\"{year:d}, cosine similarity={sim:0.2f}\".format(year=year,sim=sim))\n",
    "        \n",
    "embeds = fiction_embeddings.get_embed(1950)\n",
    "word = \"frequency\"\n",
    "v_word = embeds[word]"
   ]
  },
  {
   "cell_type": "code",
   "execution_count": 7,
   "metadata": {},
   "outputs": [
    {
     "name": "stdout",
     "output_type": "stream",
     "text": [
      "0.776406466778001\n",
      "1.3021957925612242\n"
     ]
    }
   ],
   "source": [
    "import numpy as np\n",
    "\n",
    "embs = []\n",
    "word = \"frequency\"\n",
    "for y in range(1980, 2000, 10):\n",
    "    embeds = fiction_embeddings.get_embed(y)\n",
    "    embs.append(np.array(embeds[word]))\n",
    "    \n",
    "for i in range(len(embs)-1):\n",
    "    print(np.linalg.norm(embs[i] - embs[i+1]))\n",
    "    \n",
    "y = 1990\n",
    "print(np.linalg.norm(np.array(fiction_embeddings.get_embed(y)['animal']) - np.array(fiction_embeddings.get_embed(y)['frequency'])))"
   ]
  },
  {
   "cell_type": "code",
   "execution_count": 15,
   "metadata": {},
   "outputs": [
    {
     "data": {
      "text/plain": [
       "numpy.memmap"
      ]
     },
     "execution_count": 15,
     "metadata": {},
     "output_type": "execute_result"
    }
   ],
   "source": [
    "type(embeds.m)"
   ]
  }
 ],
 "metadata": {
  "kernelspec": {
   "display_name": "Python 3",
   "language": "python",
   "name": "python3"
  },
  "language_info": {
   "codemirror_mode": {
    "name": "ipython",
    "version": 3
   },
   "file_extension": ".py",
   "mimetype": "text/x-python",
   "name": "python",
   "nbconvert_exporter": "python",
   "pygments_lexer": "ipython3",
   "version": "3.7.5"
  }
 },
 "nbformat": 4,
 "nbformat_minor": 2
}
